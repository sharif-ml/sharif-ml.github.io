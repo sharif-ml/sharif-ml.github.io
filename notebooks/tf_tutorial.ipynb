{
  "cells": [
    {
      "cell_type": "markdown",
      "metadata": {
        "id": "4eK6R15GtJYM"
      },
      "source": [
        "# Basic Tensor Operations\n",
        "\n"
      ]
    },
    {
      "cell_type": "code",
      "execution_count": null,
      "metadata": {
        "id": "-9S78IUMtJYO"
      },
      "outputs": [],
      "source": [
        "from __future__ import print_function\n",
        "import tensorflow as tf"
      ]
    },
    {
      "cell_type": "code",
      "execution_count": null,
      "metadata": {
        "id": "EjwI6chptJYP"
      },
      "outputs": [],
      "source": [
        "# Define tensor constants.\n",
        "a = tf.constant(2)\n",
        "b = tf.constant(3)\n",
        "c = tf.constant(5)"
      ]
    },
    {
      "cell_type": "code",
      "execution_count": null,
      "metadata": {
        "colab": {
          "base_uri": "https://localhost:8080/"
        },
        "id": "LdzHTBnRtJYQ",
        "outputId": "3d474b2b-388c-4b21-808e-83b1d595c286"
      },
      "outputs": [
        {
          "output_type": "stream",
          "name": "stdout",
          "text": [
            "add = 5\n",
            "sub = -1\n",
            "mul = 6\n",
            "div = 0.6666666666666666\n"
          ]
        }
      ],
      "source": [
        "# Various tensor operations.\n",
        "# Note: Tensors also support python operators (+, *, ...)\n",
        "add = tf.add(a, b)\n",
        "sub = tf.subtract(a, b)\n",
        "mul = tf.multiply(a, b)\n",
        "div = tf.divide(a, b)\n",
        "\n",
        "# Access tensors value.\n",
        "print(\"add =\", add.numpy())\n",
        "print(\"sub =\", sub.numpy())\n",
        "print(\"mul =\", mul.numpy())\n",
        "print(\"div =\", div.numpy())"
      ]
    },
    {
      "cell_type": "code",
      "execution_count": null,
      "metadata": {
        "colab": {
          "base_uri": "https://localhost:8080/"
        },
        "id": "QRkkGe8XtJYR",
        "outputId": "32310a6e-6f7e-4604-d0a4-656f19ca918c"
      },
      "outputs": [
        {
          "output_type": "stream",
          "name": "stdout",
          "text": [
            "mean = 3\n",
            "sum = 10\n"
          ]
        }
      ],
      "source": [
        "# Some more operations.\n",
        "mean = tf.reduce_mean([a, b, c])\n",
        "sum = tf.reduce_sum([a, b, c])\n",
        "\n",
        "# Access tensors value.\n",
        "print(\"mean =\", mean.numpy())\n",
        "print(\"sum =\", sum.numpy())"
      ]
    },
    {
      "cell_type": "code",
      "execution_count": null,
      "metadata": {
        "id": "I6iBh7j2tJYR"
      },
      "outputs": [],
      "source": [
        "# Matrix multiplications.\n",
        "matrix1 = tf.constant([[1., 2.], [3., 4.]])\n",
        "matrix2 = tf.constant([[5., 6.], [7., 8.]])\n",
        "\n",
        "product = tf.matmul(matrix1, matrix2)"
      ]
    },
    {
      "cell_type": "code",
      "execution_count": null,
      "metadata": {
        "colab": {
          "base_uri": "https://localhost:8080/"
        },
        "id": "lcOBYMYDtJYR",
        "outputId": "9010e61b-3231-4fa2-c30b-4bfa2b6251b2"
      },
      "outputs": [
        {
          "output_type": "execute_result",
          "data": {
            "text/plain": [
              "<tf.Tensor: shape=(2, 2), dtype=float32, numpy=\n",
              "array([[19., 22.],\n",
              "       [43., 50.]], dtype=float32)>"
            ]
          },
          "metadata": {},
          "execution_count": 6
        }
      ],
      "source": [
        "# Display Tensor.\n",
        "product"
      ]
    },
    {
      "cell_type": "code",
      "execution_count": null,
      "metadata": {
        "colab": {
          "base_uri": "https://localhost:8080/"
        },
        "id": "uOGK0DEFtJYR",
        "outputId": "a0369c13-57ba-46d0-bd50-80b2211e8848"
      },
      "outputs": [
        {
          "output_type": "execute_result",
          "data": {
            "text/plain": [
              "array([[19., 22.],\n",
              "       [43., 50.]], dtype=float32)"
            ]
          },
          "metadata": {},
          "execution_count": 7
        }
      ],
      "source": [
        "# Convert Tensor to Numpy.\n",
        "product.numpy()"
      ]
    },
    {
      "cell_type": "markdown",
      "source": [
        "#Linear Regression\n"
      ],
      "metadata": {
        "id": "3-JI5Nbt91mm"
      }
    },
    {
      "cell_type": "code",
      "source": [
        "import tensorflow as tf\n",
        "import numpy as np\n"
      ],
      "metadata": {
        "id": "6jN4pm1U931l"
      },
      "execution_count": null,
      "outputs": []
    },
    {
      "cell_type": "code",
      "source": [
        "learning_rate = 0.01\n",
        "training_steps = 1000\n",
        "display_step = 50"
      ],
      "metadata": {
        "id": "zVHS4P6y97Xe"
      },
      "execution_count": null,
      "outputs": []
    },
    {
      "cell_type": "code",
      "source": [
        "X = np.array([3.3,4.4,5.5,6.71,6.93,4.168,9.779,6.182,7.59,2.167,\n",
        "              7.042,10.791,5.313,7.997,5.654,9.27,3.1])\n",
        "Y = np.array([1.7,2.76,2.09,3.19,1.694,1.573,3.366,2.596,2.53,1.221,\n",
        "              2.827,3.465,1.65,2.904,2.42,2.94,1.3])"
      ],
      "metadata": {
        "id": "u3bdg4MG9-GK"
      },
      "execution_count": null,
      "outputs": []
    },
    {
      "cell_type": "code",
      "source": [
        "W = tf.Variable(np.random.randn(), name=\"weight\")\n",
        "b = tf.Variable(np.random.randn(), name=\"bias\")\n",
        "\n",
        "# Linear regression (Wx + b).\n",
        "def linear_regression(x):\n",
        "    return W * x + b\n",
        "\n",
        "# Mean square error.\n",
        "def mean_square(y_pred, y_true):\n",
        "    return tf.reduce_mean(tf.square(y_pred - y_true))\n",
        "\n",
        "# Stochastic Gradient Descent Optimizer.\n",
        "optimizer = tf.optimizers.SGD(learning_rate)"
      ],
      "metadata": {
        "id": "Sz8vea_1-ABt"
      },
      "execution_count": null,
      "outputs": []
    },
    {
      "cell_type": "code",
      "source": [
        "def run_optimization():\n",
        "    # Wrap computation inside a GradientTape for automatic differentiation.\n",
        "    with tf.GradientTape() as g:\n",
        "        pred = linear_regression(X)\n",
        "        loss = mean_square(pred, Y)\n",
        "\n",
        "    # Compute gradients.\n",
        "    gradients = g.gradient(loss, [W, b])\n",
        "    # Update W and b following gradients.\n",
        "    optimizer.apply_gradients(zip(gradients, [W, b]))"
      ],
      "metadata": {
        "id": "W6p82s3g-DWV"
      },
      "execution_count": null,
      "outputs": []
    },
    {
      "cell_type": "code",
      "source": [
        "for step in range(1, training_steps + 1):\n",
        "    # Run the optimization to update W and b values.\n",
        "    run_optimization()\n",
        "    \n",
        "    if step % display_step == 0:\n",
        "        pred = linear_regression(X)\n",
        "        loss = mean_square(pred, Y)\n",
        "        print(\"step: %i, loss: %f, W: %f, b: %f\" % (step, loss, W.numpy(), b.numpy()))"
      ],
      "metadata": {
        "colab": {
          "base_uri": "https://localhost:8080/"
        },
        "id": "1Q4sJZga-F83",
        "outputId": "77e154e4-63d7-409f-cdf1-bc8d53f319eb"
      },
      "execution_count": null,
      "outputs": [
        {
          "output_type": "stream",
          "name": "stdout",
          "text": [
            "step: 50, loss: 0.310011, W: 0.410051, b: -0.324300\n",
            "step: 100, loss: 0.276317, W: 0.391923, b: -0.195776\n",
            "step: 150, loss: 0.249893, W: 0.375869, b: -0.081961\n",
            "step: 200, loss: 0.229171, W: 0.361652, b: 0.018830\n",
            "step: 250, loss: 0.212920, W: 0.349062, b: 0.108087\n",
            "step: 300, loss: 0.200176, W: 0.337913, b: 0.187129\n",
            "step: 350, loss: 0.190181, W: 0.328040, b: 0.257126\n",
            "step: 400, loss: 0.182344, W: 0.319296, b: 0.319113\n",
            "step: 450, loss: 0.176197, W: 0.311553, b: 0.374007\n",
            "step: 500, loss: 0.171377, W: 0.304697, b: 0.422619\n",
            "step: 550, loss: 0.167597, W: 0.298624, b: 0.465667\n",
            "step: 600, loss: 0.164632, W: 0.293247, b: 0.503790\n",
            "step: 650, loss: 0.162307, W: 0.288485, b: 0.537550\n",
            "step: 700, loss: 0.160484, W: 0.284268, b: 0.567446\n",
            "step: 750, loss: 0.159054, W: 0.280534, b: 0.593922\n",
            "step: 800, loss: 0.157933, W: 0.277227, b: 0.617368\n",
            "step: 850, loss: 0.157054, W: 0.274298, b: 0.638130\n",
            "step: 900, loss: 0.156364, W: 0.271705, b: 0.656517\n",
            "step: 950, loss: 0.155823, W: 0.269408, b: 0.672799\n",
            "step: 1000, loss: 0.155399, W: 0.267374, b: 0.687218\n"
          ]
        }
      ]
    },
    {
      "cell_type": "code",
      "source": [
        "import matplotlib.pyplot as plt\n",
        "# Graphic display\n",
        "plt.plot(X, Y, 'ro', label='Original data')\n",
        "plt.plot(X, np.array(W * X + b), label='Fitted line')\n",
        "plt.legend()\n",
        "plt.show()"
      ],
      "metadata": {
        "colab": {
          "base_uri": "https://localhost:8080/",
          "height": 430
        },
        "id": "C9XAjCsQ-JqW",
        "outputId": "67cb237f-1d10-4fca-9cc4-00308b54dad2"
      },
      "execution_count": null,
      "outputs": [
        {
          "output_type": "display_data",
          "data": {
            "text/plain": [
              "<Figure size 640x480 with 1 Axes>"
            ],
            "image/png": "[encoded data removed]"
          },
          "metadata": {}
        }
      ]
    },
    {
      "cell_type": "markdown",
      "source": [
        "#logistic regression\n"
      ],
      "metadata": {
        "id": "-sxnWQa1tjfR"
      }
    },
    {
      "cell_type": "code",
      "source": [
        "from __future__ import absolute_import, division, print_function\n",
        "\n",
        "import tensorflow as tf\n",
        "import numpy as np"
      ],
      "metadata": {
        "id": "yqIYk0hbtmED"
      },
      "execution_count": null,
      "outputs": []
    },
    {
      "cell_type": "code",
      "source": [
        "num_classes = 10 # 0 to 9 digits\n",
        "num_features = 784 # 28*28\n",
        "\n",
        "# Training parameters.\n",
        "learning_rate = 0.01\n",
        "training_steps = 1000\n",
        "batch_size = 256\n",
        "display_step = 50"
      ],
      "metadata": {
        "id": "-CIpJHKqyJZf"
      },
      "execution_count": null,
      "outputs": []
    },
    {
      "cell_type": "code",
      "source": [
        "from tensorflow.keras.datasets import mnist\n",
        "(x_train, y_train), (x_test, y_test) = mnist.load_data()\n",
        "# Convert to float32.\n",
        "x_train, x_test = np.array(x_train, np.float32), np.array(x_test, np.float32)\n",
        "# Flatten images to 1-D vector of 784 features (28*28).\n",
        "x_train, x_test = x_train.reshape([-1, num_features]), x_test.reshape([-1, num_features])\n",
        "# Normalize images value from [0, 255] to [0, 1].\n",
        "x_train, x_test = x_train / 255., x_test / 255."
      ],
      "metadata": {
        "id": "gjD-rZofyTGO",
        "colab": {
          "base_uri": "https://localhost:8080/"
        },
        "outputId": "f2507beb-843a-42b7-e0f2-b5b1568a7cfb"
      },
      "execution_count": null,
      "outputs": [
        {
          "output_type": "stream",
          "name": "stdout",
          "text": [
            "Downloading data from https://storage.googleapis.com/tensorflow/tf-keras-datasets/mnist.npz\n",
            "11490434/11490434 [==============================] - 0s 0us/step\n"
          ]
        }
      ]
    },
    {
      "cell_type": "code",
      "source": [
        "# Use tf.data API to shuffle and batch data.\n",
        "train_data = tf.data.Dataset.from_tensor_slices((x_train, y_train))\n",
        "train_data = train_data.repeat().shuffle(5000).batch(batch_size).prefetch(1)"
      ],
      "metadata": {
        "id": "LJMmhLPjyYm5"
      },
      "execution_count": null,
      "outputs": []
    },
    {
      "cell_type": "code",
      "source": [
        "# Weight of shape [784, 10], the 28*28 image features, and total number of classes.\n",
        "W = tf.Variable(tf.ones([num_features, num_classes]), name=\"weight\")\n",
        "# Bias of shape [10], the total number of classes.\n",
        "b = tf.Variable(tf.zeros([num_classes]), name=\"bias\")\n",
        "\n",
        "# Logistic regression (Wx + b).\n",
        "def logistic_regression(x):\n",
        "    # Apply softmax to normalize the logits to a probability distribution.\n",
        "    return tf.nn.softmax(tf.matmul(x, W) + b)\n",
        "\n",
        "# Cross-Entropy loss function.\n",
        "def cross_entropy(y_pred, y_true):\n",
        "    # Encode label to a one hot vector.\n",
        "    y_true = tf.one_hot(y_true, depth=num_classes)\n",
        "    # Clip prediction values to avoid log(0) error.\n",
        "    y_pred = tf.clip_by_value(y_pred, 1e-9, 1.)\n",
        "    # Compute cross-entropy.\n",
        "    return tf.reduce_mean(-tf.reduce_sum(y_true * tf.math.log(y_pred),1))\n",
        "\n",
        "# Accuracy metric.\n",
        "def accuracy(y_pred, y_true):\n",
        "    # Predicted class is the index of highest score in prediction vector (i.e. argmax).\n",
        "    correct_prediction = tf.equal(tf.argmax(y_pred, 1), tf.cast(y_true, tf.int64))\n",
        "    return tf.reduce_mean(tf.cast(correct_prediction, tf.float32))\n",
        "\n",
        "# Stochastic gradient descent optimizer.\n",
        "optimizer = tf.optimizers.SGD(learning_rate)"
      ],
      "metadata": {
        "id": "1aPzfrvfybQ_"
      },
      "execution_count": null,
      "outputs": []
    },
    {
      "cell_type": "code",
      "source": [
        "def run_optimization(x, y):\n",
        "    # Wrap computation inside a GradientTape for automatic differentiation.\n",
        "    with tf.GradientTape() as g:\n",
        "        pred = logistic_regression(x)\n",
        "        loss = cross_entropy(pred, y)\n",
        "\n",
        "    # Compute gradients.\n",
        "    gradients = g.gradient(loss, [W, b])\n",
        "    # Update W and b following gradients.\n",
        "    optimizer.apply_gradients(zip(gradients, [W, b]))"
      ],
      "metadata": {
        "id": "RoQhFKNkyhhj"
      },
      "execution_count": null,
      "outputs": []
    },
    {
      "cell_type": "code",
      "source": [
        "for step, (batch_x, batch_y) in enumerate(train_data.take(training_steps), 1):\n",
        "    # Run the optimization to update W and b values.\n",
        "    run_optimization(batch_x, batch_y)\n",
        "    \n",
        "    if step % display_step == 0:\n",
        "        pred = logistic_regression(batch_x)\n",
        "        loss = cross_entropy(pred, batch_y)\n",
        "        acc = accuracy(pred, batch_y)\n",
        "        print(\"step: %i, loss: %f, accuracy: %f\" % (step, loss, acc))"
      ],
      "metadata": {
        "colab": {
          "base_uri": "https://localhost:8080/"
        },
        "id": "HYU1Dy0cykH_",
        "outputId": "912c0f00-1106-4ac9-b756-b04398e88c3d"
      },
      "execution_count": null,
      "outputs": [
        {
          "output_type": "stream",
          "name": "stdout",
          "text": [
            "step: 50, loss: 1.869604, accuracy: 0.699219\n",
            "step: 100, loss: 1.529156, accuracy: 0.761719\n",
            "step: 150, loss: 1.329894, accuracy: 0.808594\n",
            "step: 200, loss: 1.219620, accuracy: 0.808594\n",
            "step: 250, loss: 1.040559, accuracy: 0.839844\n",
            "step: 300, loss: 1.043610, accuracy: 0.800781\n",
            "step: 350, loss: 0.936782, accuracy: 0.816406\n",
            "step: 400, loss: 0.848316, accuracy: 0.851562\n",
            "step: 450, loss: 0.738437, accuracy: 0.894531\n",
            "step: 500, loss: 0.856492, accuracy: 0.777344\n",
            "step: 550, loss: 0.811736, accuracy: 0.820312\n",
            "step: 600, loss: 0.798123, accuracy: 0.839844\n",
            "step: 650, loss: 0.773814, accuracy: 0.804688\n",
            "step: 700, loss: 0.666742, accuracy: 0.875000\n",
            "step: 750, loss: 0.657093, accuracy: 0.843750\n",
            "step: 800, loss: 0.674162, accuracy: 0.839844\n",
            "step: 850, loss: 0.693837, accuracy: 0.859375\n",
            "step: 900, loss: 0.639338, accuracy: 0.835938\n",
            "step: 950, loss: 0.600501, accuracy: 0.882812\n",
            "step: 1000, loss: 0.677740, accuracy: 0.867188\n"
          ]
        }
      ]
    },
    {
      "cell_type": "code",
      "source": [
        "pred = logistic_regression(x_test)\n",
        "print(\"Test Accuracy: %f\" % accuracy(pred, y_test))"
      ],
      "metadata": {
        "colab": {
          "base_uri": "https://localhost:8080/"
        },
        "id": "PeWHKCRZymy6",
        "outputId": "436d2cd4-7b59-46ca-d9eb-5064a6817bb7"
      },
      "execution_count": null,
      "outputs": [
        {
          "output_type": "stream",
          "name": "stdout",
          "text": [
            "Test Accuracy: 0.870600\n"
          ]
        }
      ]
    },
    {
      "cell_type": "code",
      "source": [
        "import matplotlib.pyplot as plt"
      ],
      "metadata": {
        "id": "mG1cXCS-yqZP"
      },
      "execution_count": null,
      "outputs": []
    },
    {
      "cell_type": "code",
      "source": [
        "n_images = 5\n",
        "test_images = x_test[:n_images]\n",
        "predictions = logistic_regression(test_images)\n",
        "\n",
        "# Display image and model prediction.\n",
        "for i in range(n_images):\n",
        "    plt.imshow(np.reshape(test_images[i], [28, 28]), cmap='gray')\n",
        "    plt.show()\n",
        "    print(\"Model prediction: %i\" % np.argmax(predictions.numpy()[i]))"
      ],
      "metadata": {
        "colab": {
          "base_uri": "https://localhost:8080/",
          "height": 1000
        },
        "id": "IXmT2bFZypxj",
        "outputId": "0738c09d-95fd-4ec2-8f6e-a7ba7bc9900d"
      },
      "execution_count": null,
      "outputs": [
        {
          "output_type": "display_data",
          "data": {
            "text/plain": [
              "<Figure size 640x480 with 1 Axes>"
            ],
            "image/png": "[encoded data removed]"
          },
          "metadata": {}
        },
        {
          "output_type": "stream",
          "name": "stdout",
          "text": [
            "Model prediction: 7\n"
          ]
        },
        {
          "output_type": "display_data",
          "data": {
            "text/plain": [
              "<Figure size 640x480 with 1 Axes>"
            ],
            "image/png": "[encoded data removed]"
          },
          "metadata": {}
        },
        {
          "output_type": "stream",
          "name": "stdout",
          "text": [
            "Model prediction: 2\n"
          ]
        },
        {
          "output_type": "display_data",
          "data": {
            "text/plain": [
              "<Figure size 640x480 with 1 Axes>"
            ],
            "image/png": "[encoded data removed]"
          },
          "metadata": {}
        },
        {
          "output_type": "stream",
          "name": "stdout",
          "text": [
            "Model prediction: 1\n"
          ]
        },
        {
          "output_type": "display_data",
          "data": {
            "text/plain": [
              "<Figure size 640x480 with 1 Axes>"
            ],
            "image/png": "[encoded data removed]"
          },
          "metadata": {}
        },
        {
          "output_type": "stream",
          "name": "stdout",
          "text": [
            "Model prediction: 0\n"
          ]
        },
        {
          "output_type": "display_data",
          "data": {
            "text/plain": [
              "<Figure size 640x480 with 1 Axes>"
            ],
            "image/png": "[encoded data removed]"
          },
          "metadata": {}
        },
        {
          "output_type": "stream",
          "name": "stdout",
          "text": [
            "Model prediction: 4\n"
          ]
        }
      ]
    }
  ],
  "metadata": {
    "kernelspec": {
      "display_name": "Python 3",
      "name": "python3"
    },
    "language_info": {
      "name": "python"
    },
    "colab": {
      "provenance": [],
      "gpuType": "T4"
    },
    "accelerator": "GPU",
    "gpuClass": "standard"
  },
  "nbformat": 4,
  "nbformat_minor": 0
}